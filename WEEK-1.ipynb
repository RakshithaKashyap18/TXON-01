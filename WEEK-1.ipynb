{
 "cells": [
  {
   "cell_type": "code",
   "execution_count": 1,
   "id": "a49e4f2a",
   "metadata": {},
   "outputs": [],
   "source": [
    "import numpy as np \n",
    "import cv2"
   ]
  },
  {
   "cell_type": "code",
   "execution_count": 2,
   "id": "6981f5e5",
   "metadata": {},
   "outputs": [
    {
     "name": "stdout",
     "output_type": "stream",
     "text": [
      "loading models.....\n"
     ]
    }
   ],
   "source": [
    "#PREPOSSING THR MODELS\n",
    "print(\"loading models.....\")\n",
    "net = cv2.dnn.readNetFromCaffe(r\"C:\\Users\\raksh\\Desktop\\New folder\\model\\colorization_deploy_v2.prototxt\",r\"C:\\Users\\raksh\\Desktop\\New folder\\model\\colorization_release_v2.caffemodel\")\n",
    "pts = np.load(r\"C:\\Users\\raksh\\Desktop\\New folder\\model\\pts_in_hull.npy\")"
   ]
  },
  {
   "cell_type": "code",
   "execution_count": 3,
   "id": "756af35c",
   "metadata": {},
   "outputs": [],
   "source": [
    "\n",
    "class8 = net.getLayerId(\"class8_ab\")\n",
    "conv8 = net.getLayerId(\"conv8_313_rh\")\n",
    "pts = pts.transpose().reshape(2,313,1,1)"
   ]
  },
  {
   "cell_type": "code",
   "execution_count": 4,
   "id": "18beb9a6",
   "metadata": {},
   "outputs": [],
   "source": [
    "\n",
    "net.getLayer(class8).blobs = [pts.astype(\"float32\")]\n",
    "net.getLayer(conv8).blobs = [np.full([1,313],2.606,dtype='float32')]"
   ]
  },
  {
   "cell_type": "code",
   "execution_count": 6,
   "id": "224fd272",
   "metadata": {},
   "outputs": [],
   "source": [
    "image = cv2.imread(r\"C:\\Users\\raksh\\Desktop\\New folder\\images\\mark_twain.jpg\")\n",
    "scaled = image.astype(\"float32\")/255.0\n",
    "lab = cv2.cvtColor(scaled,cv2.COLOR_BGR2LAB)\n"
   ]
  },
  {
   "cell_type": "code",
   "execution_count": null,
   "id": "6f812aa4",
   "metadata": {},
   "outputs": [],
   "source": [
    "resized = cv2.resize(lab,(224,224))\n",
    "L = cv2.split(resized)[0]\n",
    "L -= 50\n",
    "\n",
    "\n",
    "net.setInput(cv2.dnn.blobFromImage(L))\n",
    "ab = net.forward()[0, :, :, :].transpose((1,2,0))\n",
    "\n",
    "ab = cv2.resize(ab, (image.shape[1],image.shape[0]))\n",
    "\n",
    "L = cv2.split(lab)[0]\n",
    "colorized = np.concatenate((L[:,:,np.newaxis], ab), axis=2)\n",
    "\n",
    "colorized = cv2.cvtColor(colorized,cv2.COLOR_LAB2BGR)\n",
    "colorized = np.clip(colorized,0,1)\n",
    "\n",
    "colorized = (255 * colorized).astype(\"uint8\")\n",
    "\n",
    "cv2.imshow(\"Original\",image)\n",
    "cv2.imshow(\"Colorized\",colorized)\n",
    "\n",
    "cv2.waitKey(0)"
   ]
  },
  {
   "cell_type": "code",
   "execution_count": null,
   "id": "55a80fa6",
   "metadata": {},
   "outputs": [],
   "source": []
  }
 ],
 "metadata": {
  "kernelspec": {
   "display_name": "Python 3 (ipykernel)",
   "language": "python",
   "name": "python3"
  },
  "language_info": {
   "codemirror_mode": {
    "name": "ipython",
    "version": 3
   },
   "file_extension": ".py",
   "mimetype": "text/x-python",
   "name": "python",
   "nbconvert_exporter": "python",
   "pygments_lexer": "ipython3",
   "version": "3.9.12"
  }
 },
 "nbformat": 4,
 "nbformat_minor": 5
}
